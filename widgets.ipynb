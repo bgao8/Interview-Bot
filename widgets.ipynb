{
 "cells": [
  {
   "cell_type": "code",
   "execution_count": null,
   "id": "e78904b4",
   "metadata": {},
   "outputs": [
    {
     "data": {
      "application/vnd.jupyter.widget-view+json": {
       "model_id": "28ca99c15bee4bb0b74e0e738b773eda",
       "version_major": 2,
       "version_minor": 0
      },
      "text/plain": [
       "Dropdown(description='Choose mic', options=(('Brandon’s iPhone (2) Microphone', 0), ('Brandon’s AirPods Pro', …"
      ]
     },
     "metadata": {},
     "output_type": "display_data"
    },
    {
     "data": {
      "application/vnd.jupyter.widget-view+json": {
       "model_id": "12f4024aba13478f9af93c5917506c54",
       "version_major": 2,
       "version_minor": 0
      },
      "text/plain": [
       "VBox()"
      ]
     },
     "metadata": {},
     "output_type": "display_data"
    },
    {
     "data": {
      "application/vnd.jupyter.widget-view+json": {
       "model_id": "856af0b51a994383b784e5ee13c6fb5d",
       "version_major": 2,
       "version_minor": 0
      },
      "text/plain": [
       "Button(description='Start Interview', style=ButtonStyle())"
      ]
     },
     "metadata": {},
     "output_type": "display_data"
    },
    {
     "data": {
      "application/vnd.jupyter.widget-view+json": {
       "model_id": "115ce8daea344a2e830fefefaf4a4eb1",
       "version_major": 2,
       "version_minor": 0
      },
      "text/plain": [
       "Button(button_style='success', description='Record', icon='microphone', style=ButtonStyle())"
      ]
     },
     "metadata": {},
     "output_type": "display_data"
    },
    {
     "data": {
      "application/vnd.jupyter.widget-view+json": {
       "model_id": "d124a49b417a41cda0ac7a244b851dab",
       "version_major": 2,
       "version_minor": 0
      },
      "text/plain": [
       "Button(button_style='warning', description='End Response', icon='stop', style=ButtonStyle())"
      ]
     },
     "metadata": {},
     "output_type": "display_data"
    },
    {
     "data": {
      "application/vnd.jupyter.widget-view+json": {
       "model_id": "b5c5c8d7f2c9481fb0c92578d28efffb",
       "version_major": 2,
       "version_minor": 0
      },
      "text/plain": [
       "Button(button_style='danger', description='Terminate', style=ButtonStyle())"
      ]
     },
     "metadata": {},
     "output_type": "display_data"
    },
    {
     "name": "stdout",
     "output_type": "stream",
     "text": [
      "Loading...\n"
     ]
    },
    {
     "data": {
      "application/vnd.jupyter.widget-view+json": {
       "model_id": "13c730073e024f7580240def4d45044d",
       "version_major": 2,
       "version_minor": 0
      },
      "text/plain": [
       "VBox(children=(Button(button_style='primary', description='Transcript [Toggle]', style=ButtonStyle()),))"
      ]
     },
     "metadata": {},
     "output_type": "display_data"
    },
    {
     "data": {
      "application/vnd.jupyter.widget-view+json": {
       "model_id": "b7a96c60435e45a99ea0c61aa68f75fa",
       "version_major": 2,
       "version_minor": 0
      },
      "text/plain": [
       "Text(value='Thank you for answering these questions. ', disabled=True)"
      ]
     },
     "metadata": {},
     "output_type": "display_data"
    },
    {
     "data": {
      "application/vnd.jupyter.widget-view+json": {
       "model_id": "70275d720b0e40fc96d3634de848db8c",
       "version_major": 2,
       "version_minor": 0
      },
      "text/plain": [
       "Textarea(value='Interview has started.\\nApplicant details: \\nPosition: software dev\\nLevel: intern\\nCompany: p…"
      ]
     },
     "metadata": {},
     "output_type": "display_data"
    },
    {
     "data": {
      "application/vnd.jupyter.widget-view+json": {
       "model_id": "5047273ff7de4c2aba9872107ae35bc7",
       "version_major": 2,
       "version_minor": 0
      },
      "text/plain": [
       "Textarea(value=\"Thank you for coming in today to interview for the Software Developer intern position at Pooop…"
      ]
     },
     "metadata": {},
     "output_type": "display_data"
    }
   ],
   "source": [
    "from interviewer import Interviewer\n",
    "import pyaudio\n",
    "import ipywidgets as widgets\n",
    "from IPython.display import display\n",
    "import threading\n",
    "\n",
    "interviewer = Interviewer()\n",
    "\n",
    "# 1. Dropdown for mic selection\n",
    "def choose_mic():\n",
    "    p = pyaudio.PyAudio()\n",
    "    mic_options = []\n",
    "\n",
    "    for i in range(p.get_device_count()):\n",
    "        mic_name = p.get_device_info_by_host_api_device_index(0, i).get('name')\n",
    "        mic_options.append((mic_name, i))\n",
    "\n",
    "    p.terminate()\n",
    "    return mic_options\n",
    "\n",
    "mic_dropdown = widgets.Dropdown(\n",
    "    options=choose_mic(),\n",
    "    description='Choose mic',\n",
    "    disabled=False\n",
    ")\n",
    "display(mic_dropdown)\n",
    "\n",
    "def show_temp_text(message, duration=3):\n",
    "    msg_widget = widgets.Text(value=message, disabled=True)\n",
    "    display(msg_widget)\n",
    "    threading.Timer(duration, lambda: msg_widget.close()).start()\n",
    "\n",
    "questions = [\n",
    "    \"What position are you interviewing for? \",\n",
    "    \"What level is this job? (Intern, entry-level, junior, etc.) \",\n",
    "    \"What company are you interviewing for? \",\n",
    "    \"What type of interview is this? ('B' for behavioral, 'T' for technical) \",\n",
    "    \"Any extra notes? \"\n",
    "]\n",
    "user_answers = []\n",
    "container = widgets.VBox()\n",
    "display(container)\n",
    "\n",
    "current_index = {'i': 0}\n",
    "\n",
    "def ask_next_question():\n",
    "    container.children = []\n",
    "\n",
    "    if current_index['i'] >= len(questions):\n",
    "        show_temp_text('Thank you for answering these questions. ', 5)\n",
    "        interviewer.position = user_answers[0]\n",
    "        interviewer.level = user_answers[1] \n",
    "        interviewer.company = user_answers[2]\n",
    "        interviewer.type = user_answers[3]\n",
    "        interviewer.notes = user_answers[4]\n",
    "\n",
    "        starter_message = (\n",
    "            f\"Interview has started.\\n\"\n",
    "            f\"Applicant details: \\n\"\n",
    "            f\"Position: {interviewer.position}\\n\"\n",
    "            f\"Level: {interviewer.level}\\n\"\n",
    "            f\"Company: {interviewer.company}\\n\"\n",
    "            f\"Type: {interviewer.type}\\n\"\n",
    "            f\"Notes: {interviewer.notes}\"\n",
    "        )\n",
    "        start_text = widgets.Textarea(value=starter_message, disabled=True, layout={'width': '1000px'})\n",
    "        display(start_text)\n",
    "\n",
    "        interviewer.conversation.clear()\n",
    "        first_question = interviewer.ask_question()\n",
    "\n",
    "        question_text.value = first_question\n",
    "        display(question_text)\n",
    "\n",
    "        return\n",
    "\n",
    "    q_text = questions[current_index['i']]\n",
    "    label = widgets.Label(q_text)\n",
    "    input_box = widgets.Text(placeholder='Press [Enter] to submit answer')\n",
    "\n",
    "    def on_submit(b):\n",
    "        user_answers.append(input_box.value)\n",
    "        current_index['i'] += 1\n",
    "        ask_next_question()\n",
    "\n",
    "    input_box.on_submit(on_submit)\n",
    "    container.children = [label, input_box]\n",
    "\n",
    "start_button = widgets.Button(\n",
    "    description='Start Interview', disabled=False\n",
    ")\n",
    "\n",
    "def start_click(b):\n",
    "    ask_next_question()\n",
    "    interviewer.conversation.clear()\n",
    "    # print_transcript()\n",
    "    # display(record_button)\n",
    "    start_button.disabled = True\n",
    "\n",
    "display(start_button)\n",
    "\n",
    "record_button = widgets.Button(\n",
    "    description='Record', disabled=False, button_style='success', icon='microphone'\n",
    ")\n",
    "# record_text = widgets.Text(value='Started recording...', disabled=False)\n",
    "\n",
    "# 2. Start/stop control buttons\n",
    "def record_click(b):\n",
    "    mic_index = mic_dropdown.value\n",
    "    show_temp_text('Started recording...', 7)\n",
    "    def run_start():\n",
    "        interviewer.start_recording(mic_index)\n",
    "\n",
    "    run_start()\n",
    "\n",
    "stop_button = widgets.Button(\n",
    "    description='End Response', disabled=False, button_style='warning', icon='stop'\n",
    ")\n",
    "stop_text = widgets.Text(value='Stopped recording. Loading AI response...', disabled=False)\n",
    "# STOP THE THREAD\n",
    "question_text = widgets.Textarea(\n",
    "    value='', disabled=False, layout={'width':'1000px', 'height':'75px'}\n",
    ")\n",
    "\n",
    "def stop_click(b):\n",
    "    # record_text.close()\n",
    "    show_temp_text('Stopped recording. Loading AI response...', 3)\n",
    "    # record_thread.stop()\n",
    "    interviewer.stop_recording()\n",
    "    interviewer.ask_question()\n",
    "    next_question = interviewer.get_last_response()\n",
    "    \n",
    "    question_text.value = next_question\n",
    "    # with question_output:\n",
    "    #     print(next_question)\n",
    "    # display(question_output)\n",
    "\n",
    "    # display(question_text)\n",
    "    # question_text.close()\n",
    "\n",
    "terminate_button = widgets.Button(\n",
    "    description='Terminate', disabled=False, button_style='danger'\n",
    ")\n",
    "\n",
    "terminate_text = widgets.Text(value='Interview has ended.', disabled=False)\n",
    "\n",
    "def terminate_click(b):\n",
    "    interviewer.terminate()\n",
    "    display(terminate_text)\n",
    "    display(grade_button)\n",
    "\n",
    "display(record_button, stop_button, terminate_button)\n",
    "\n",
    "transcript_button = widgets.Button(\n",
    "    description='Transcript [Toggle]', disabled=False, button_style='primary'\n",
    ")\n",
    "\n",
    "grade_button = widgets.Button(\n",
    "    description='Grade Me', disabled=False\n",
    ")\n",
    "grade_text = widgets.Textarea(value=interviewer.grade_interview(), disabled=False,layout={'width':'1000px', 'height':'50px'})\n",
    "def grade_click(b):\n",
    "    display(grade_text)\n",
    "\n",
    "# transcript_text = widgets.Text(value='Transcript:', disabled=False)\n",
    "transcript_output = widgets.Output()\n",
    "transcript_visible = {'state':False}\n",
    "transcript_container = widgets.VBox([transcript_button])\n",
    "display(transcript_container)\n",
    "\n",
    "def print_transcript():\n",
    "    # display(transcript_text)\n",
    "    return interviewer.get_conversation()\n",
    "\n",
    "def toggle_transcript(b):\n",
    "    # display(transcript_text)\n",
    "    transcript_visible['state'] = not transcript_visible['state']\n",
    "    transcript_output.clear_output()\n",
    "\n",
    "    if transcript_visible['state']:\n",
    "        with transcript_output:\n",
    "            transcript_output.clear_output()\n",
    "            print(print_transcript())\n",
    "        transcript_container.children = [transcript_button, transcript_output]\n",
    "\n",
    "    else:\n",
    "        transcript_container.children = [transcript_button]\n",
    "\n",
    "start_button.on_click(start_click)\n",
    "record_button.on_click(record_click)\n",
    "stop_button.on_click(stop_click)\n",
    "terminate_button.on_click(terminate_click)\n",
    "transcript_button.on_click(toggle_transcript)\n",
    "grade_button.on_click(grade_click)\n",
    "# display(transcript_output)\n"
   ]
  }
 ],
 "metadata": {
  "kernelspec": {
   "display_name": "Python 3",
   "language": "python",
   "name": "python3"
  },
  "language_info": {
   "codemirror_mode": {
    "name": "ipython",
    "version": 3
   },
   "file_extension": ".py",
   "mimetype": "text/x-python",
   "name": "python",
   "nbconvert_exporter": "python",
   "pygments_lexer": "ipython3",
   "version": "3.13.2"
  }
 },
 "nbformat": 4,
 "nbformat_minor": 5
}
